{
 "cells": [
  {
   "cell_type": "markdown",
   "id": "fe4e6968",
   "metadata": {},
   "source": [
    "# Cipher Type Prediction"
   ]
  },
  {
   "cell_type": "code",
   "execution_count": 4,
   "id": "be2b256f",
   "metadata": {},
   "outputs": [
    {
     "name": "stdout",
     "output_type": "stream",
     "text": [
      "                                          Ciphertext        Algorithm\n",
      "0  15-5321-32-1544-43.25.15-5325.15.23.6114-45.34...           POLLUX\n",
      "1  QYQSHKWGGUADOEGXSAFPVGAFWTDSKIQRADWBVNERQIGXV ...  PROGRESSIVE_KEY\n",
      "2   45-44-21-4154615354.14.23.2522-4255-1261-1241...           POLLUX\n",
      "3  REGRDRTMNELSILJS VLDHQQ UIVRDMD OXWTCNCFSFPGI ...  PROGRESSIVE_KEY\n",
      "4   14-52-42223325-23.4144-52.52.25-2314-22.61551...           POLLUX\n"
     ]
    }
   ],
   "source": [
    "import pandas as pd\n",
    "df = pd.read_csv(\"cipher_dataset.csv\")\n",
    "print(df.head())\n"
   ]
  },
  {
   "cell_type": "code",
   "execution_count": 9,
   "id": "7e1d4f2d",
   "metadata": {},
   "outputs": [
    {
     "name": "stdout",
     "output_type": "stream",
     "text": [
      "Classification Report:\n",
      "                 precision    recall  f1-score   support\n",
      "\n",
      "         POLLUX       1.00      1.00      1.00        24\n",
      "PROGRESSIVE_KEY       1.00      1.00      1.00        16\n",
      "\n",
      "       accuracy                           1.00        40\n",
      "      macro avg       1.00      1.00      1.00        40\n",
      "   weighted avg       1.00      1.00      1.00        40\n",
      "\n",
      "Model Accuracy: 100.00%\n"
     ]
    }
   ],
   "source": [
    "from sklearn.feature_extraction.text import TfidfVectorizer\n",
    "from sklearn.model_selection import train_test_split\n",
    "from sklearn.naive_bayes import MultinomialNB\n",
    "from sklearn.metrics import classification_report, accuracy_score\n",
    "\n",
    "vectorizer = TfidfVectorizer(analyzer='char', ngram_range=(1, 3))\n",
    "X = vectorizer.fit_transform(df[\"Ciphertext\"])\n",
    "y = df[\"Algorithm\"]\n",
    "\n",
    "# Split the dataset\n",
    "X_train, X_test, y_train, y_test = train_test_split(X, y, test_size=0.2, random_state=42)\n",
    "\n",
    "# Train a Naive Bayes Classifier\n",
    "model = MultinomialNB()\n",
    "model.fit(X_train, y_train)\n",
    "\n",
    "y_pred = model.predict(X_test)\n",
    "print(\"Classification Report:\")\n",
    "print(classification_report(y_test, y_pred))\n",
    "print(f\"Model Accuracy: {accuracy_score(y_test, y_pred) * 100:.2f}%\")\n"
   ]
  },
  {
   "cell_type": "code",
   "execution_count": 10,
   "id": "fa2cdfa4",
   "metadata": {},
   "outputs": [],
   "source": [
    "import pickle\n",
    "\n",
    "# Save the trained model\n",
    "with open(\"trained_model.pkl\", \"wb\") as model_file:\n",
    "    pickle.dump(model, model_file)\n",
    "\n",
    "# Save the vectorizer\n",
    "with open(\"vectorizer.pkl\", \"wb\") as vectorizer_file:\n",
    "    pickle.dump(vectorizer, vectorizer_file)\n"
   ]
  },
  {
   "cell_type": "code",
   "execution_count": 11,
   "id": "14741b51",
   "metadata": {},
   "outputs": [
    {
     "data": {
      "application/vnd.jupyter.widget-view+json": {
       "model_id": "9ad98935119d43e3ba5fecb8876f9832",
       "version_major": 2,
       "version_minor": 0
      },
      "text/plain": [
       "VBox(children=(Label(value='Enter Ciphertext:'), Textarea(value='', layout=Layout(height='100px', width='500px…"
      ]
     },
     "metadata": {},
     "output_type": "display_data"
    }
   ],
   "source": [
    "from ipywidgets import Textarea, Button, Output, VBox, Label\n",
    "from IPython.display import display\n",
    "import pickle\n",
    "\n",
    "with open(\"trained_model.pkl\", \"rb\") as model_file:\n",
    "    model = pickle.load(model_file)\n",
    "with open(\"vectorizer.pkl\", \"rb\") as vectorizer_file:\n",
    "    vectorizer = pickle.load(vectorizer_file)\n",
    "\n",
    "def predict_cipher(ciphertext):\n",
    "    vectorized_input = vectorizer.transform([ciphertext])\n",
    "    prediction = model.predict(vectorized_input)[0]\n",
    "    return prediction\n",
    "\n",
    "input_label = Label(\"Enter Ciphertext:\")\n",
    "input_field = Textarea(placeholder=\"Enter the ciphertext here...\", layout={'width': '500px', 'height': '100px'})\n",
    "predict_button = Button(description=\"Predict Cipher Type\", button_style='info')\n",
    "output = Output()\n",
    "\n",
    "def on_predict_clicked(b):\n",
    "    with output:\n",
    "        output.clear_output()\n",
    "        ciphertext = input_field.value.strip()\n",
    "        if not ciphertext:\n",
    "            print(\"Error: Please provide a ciphertext.\")\n",
    "        else:\n",
    "            try:\n",
    "                cipher_type = predict_cipher(ciphertext)\n",
    "                print(f\"Predicted Cipher Type: {cipher_type}\")\n",
    "            except Exception as e:\n",
    "                print(f\"Error: {str(e)}\")\n",
    "\n",
    "predict_button.on_click(on_predict_clicked)\n",
    "\n",
    "# Display the GUI\n",
    "layout = VBox([input_label, input_field, predict_button, output])\n",
    "display(layout)\n"
   ]
  },
  {
   "cell_type": "code",
   "execution_count": 12,
   "id": "6fe7e711",
   "metadata": {},
   "outputs": [
    {
     "name": "stdout",
     "output_type": "stream",
     "text": [
      "Epoch 1/5\n"
     ]
    },
    {
     "name": "stderr",
     "output_type": "stream",
     "text": [
      "C:\\Users\\ratho\\anaconda3\\Lib\\site-packages\\keras\\src\\layers\\core\\dense.py:87: UserWarning: Do not pass an `input_shape`/`input_dim` argument to a layer. When using Sequential models, prefer using an `Input(shape)` object as the first layer in the model instead.\n",
      "  super().__init__(activity_regularizer=activity_regularizer, **kwargs)\n"
     ]
    },
    {
     "name": "stdout",
     "output_type": "stream",
     "text": [
      "\u001b[1m5/5\u001b[0m \u001b[32m━━━━━━━━━━━━━━━━━━━━\u001b[0m\u001b[37m\u001b[0m \u001b[1m2s\u001b[0m 5ms/step - accuracy: 0.6290 - loss: 0.6894\n",
      "Epoch 2/5\n",
      "\u001b[1m5/5\u001b[0m \u001b[32m━━━━━━━━━━━━━━━━━━━━\u001b[0m\u001b[37m\u001b[0m \u001b[1m0s\u001b[0m 3ms/step - accuracy: 0.9819 - loss: 0.6585 \n",
      "Epoch 3/5\n",
      "\u001b[1m5/5\u001b[0m \u001b[32m━━━━━━━━━━━━━━━━━━━━\u001b[0m\u001b[37m\u001b[0m \u001b[1m0s\u001b[0m 5ms/step - accuracy: 1.0000 - loss: 0.6104 \n",
      "Epoch 4/5\n",
      "\u001b[1m5/5\u001b[0m \u001b[32m━━━━━━━━━━━━━━━━━━━━\u001b[0m\u001b[37m\u001b[0m \u001b[1m0s\u001b[0m 5ms/step - accuracy: 1.0000 - loss: 0.5404 \n",
      "Epoch 5/5\n",
      "\u001b[1m5/5\u001b[0m \u001b[32m━━━━━━━━━━━━━━━━━━━━\u001b[0m\u001b[37m\u001b[0m \u001b[1m0s\u001b[0m 4ms/step - accuracy: 1.0000 - loss: 0.4535 \n",
      "\u001b[1m2/2\u001b[0m \u001b[32m━━━━━━━━━━━━━━━━━━━━\u001b[0m\u001b[37m\u001b[0m \u001b[1m0s\u001b[0m 55ms/step\n",
      "Accuracy:  1.0\n",
      "Classification Report:\n",
      "               precision    recall  f1-score   support\n",
      "\n",
      "           0       1.00      1.00      1.00        24\n",
      "           1       1.00      1.00      1.00        16\n",
      "\n",
      "    accuracy                           1.00        40\n",
      "   macro avg       1.00      1.00      1.00        40\n",
      "weighted avg       1.00      1.00      1.00        40\n",
      "\n"
     ]
    }
   ],
   "source": [
    "import pandas as pd\n",
    "from sklearn.model_selection import train_test_split\n",
    "from sklearn.preprocessing import LabelEncoder\n",
    "from sklearn.metrics import accuracy_score, classification_report\n",
    "from keras.models import Sequential\n",
    "from keras.layers import Dense\n",
    "from keras.optimizers import Adam\n",
    "import pickle\n",
    "\n",
    "# Load the dataset\n",
    "data = pd.read_csv('cipher_dataset.csv')\n",
    "\n",
    "X = data['Ciphertext'].values\n",
    "y = data['Algorithm'].values\n",
    "\n",
    "le = LabelEncoder()\n",
    "y = le.fit_transform(y)\n",
    "\n",
    "from sklearn.feature_extraction.text import TfidfVectorizer\n",
    "vectorizer = TfidfVectorizer(max_features=5000)\n",
    "X_tfidf = vectorizer.fit_transform(X).toarray()\n",
    "\n",
    "X_train, X_test, y_train, y_test = train_test_split(X_tfidf, y, test_size=0.2, random_state=42)\n",
    "\n",
    "model = Sequential()\n",
    "model.add(Dense(128, input_dim=X_train.shape[1], activation='relu'))\n",
    "model.add(Dense(64, activation='relu'))\n",
    "model.add(Dense(32, activation='relu'))\n",
    "model.add(Dense(1, activation='sigmoid'))\n",
    "\n",
    "model.compile(loss='binary_crossentropy', optimizer=Adam(), metrics=['accuracy'])\n",
    "\n",
    "model.fit(X_train, y_train, epochs=5, batch_size=32)\n",
    "\n",
    "y_pred = model.predict(X_test)\n",
    "y_pred = (y_pred > 0.5) \n",
    "accuracy = accuracy_score(y_test, y_pred)\n",
    "print(\"Accuracy: \", accuracy)\n",
    "\n",
    "\n",
    "with open('nn_model.pkl', 'wb') as model_file:\n",
    "    pickle.dump(model, model_file)\n",
    "\n",
    "with open('vectorizer.pkl', 'wb') as vectorizer_file:\n",
    "    pickle.dump(vectorizer, vectorizer_file)\n",
    "\n",
    "\n",
    "print(\"Classification Report:\\n\", classification_report(y_test, y_pred))\n",
    "\n"
   ]
  },
  {
   "cell_type": "code",
   "execution_count": 14,
   "id": "af00e536",
   "metadata": {},
   "outputs": [
    {
     "data": {
      "application/vnd.jupyter.widget-view+json": {
       "model_id": "5d999770246746279f4fd02b8c628412",
       "version_major": 2,
       "version_minor": 0
      },
      "text/plain": [
       "VBox(children=(Label(value='Enter Ciphertext:'), Textarea(value='', layout=Layout(height='100px', width='500px…"
      ]
     },
     "metadata": {},
     "output_type": "display_data"
    }
   ],
   "source": [
    "from ipywidgets import Textarea, Button, Output, VBox, Label\n",
    "from IPython.display import display\n",
    "import pickle\n",
    "import numpy as np\n",
    "\n",
    "with open(\"nn_model.pkl\", \"rb\") as model_file:\n",
    "    model = pickle.load(model_file)\n",
    "\n",
    "with open(\"vectorizer.pkl\", \"rb\") as vectorizer_file:\n",
    "    vectorizer = pickle.load(vectorizer_file)\n",
    "\n",
    "def predict_cipher(ciphertext):\n",
    "\n",
    "    vectorized_input = vectorizer.transform([ciphertext]).toarray()\n",
    " \n",
    "    prediction = model.predict(vectorized_input)\n",
    "    prediction = (prediction > 0.5) \n",
    "    if prediction == 0:\n",
    "        return \"POLLUX\"\n",
    "    else:\n",
    "        return \"PROGRESSIVE_KEY\"\n",
    "\n",
    "input_label = Label(\"Enter Ciphertext:\")\n",
    "input_field = Textarea(placeholder=\"Enter the ciphertext here...\", layout={'width': '500px', 'height': '100px'})\n",
    "predict_button = Button(description=\"Predict Cipher Type\", button_style='info')\n",
    "output = Output()\n",
    "\n",
    "def on_predict_clicked(b):\n",
    "    with output:\n",
    "        output.clear_output()\n",
    "        ciphertext = input_field.value.strip()\n",
    "        if not ciphertext:\n",
    "            print(\"Error: Please provide a ciphertext.\")\n",
    "        else:\n",
    "            try:\n",
    "                cipher_type = predict_cipher(ciphertext)\n",
    "                print(f\"Predicted Cipher Type: {cipher_type}\")\n",
    "            except Exception as e:\n",
    "                print(f\"Error: {str(e)}\")\n",
    "\n",
    "predict_button.on_click(on_predict_clicked)\n",
    "\n",
    "# Display the GUI\n",
    "layout = VBox([input_label, input_field, predict_button, output])\n",
    "display(layout)\n"
   ]
  },
  {
   "cell_type": "code",
   "execution_count": 15,
   "id": "a5ab59f4",
   "metadata": {},
   "outputs": [
    {
     "name": "stdout",
     "output_type": "stream",
     "text": [
      "Epoch 1/5\n"
     ]
    },
    {
     "name": "stderr",
     "output_type": "stream",
     "text": [
      "C:\\Users\\ratho\\anaconda3\\Lib\\site-packages\\keras\\src\\layers\\core\\embedding.py:90: UserWarning: Argument `input_length` is deprecated. Just remove it.\n",
      "  warnings.warn(\n"
     ]
    },
    {
     "name": "stdout",
     "output_type": "stream",
     "text": [
      "\u001b[1m3/3\u001b[0m \u001b[32m━━━━━━━━━━━━━━━━━━━━\u001b[0m\u001b[37m\u001b[0m \u001b[1m4s\u001b[0m 254ms/step - accuracy: 0.5844 - loss: 0.6899 - val_accuracy: 1.0000 - val_loss: 0.6590\n",
      "Epoch 2/5\n",
      "\u001b[1m3/3\u001b[0m \u001b[32m━━━━━━━━━━━━━━━━━━━━\u001b[0m\u001b[37m\u001b[0m \u001b[1m0s\u001b[0m 52ms/step - accuracy: 1.0000 - loss: 0.6320 - val_accuracy: 1.0000 - val_loss: 0.5190\n",
      "Epoch 3/5\n",
      "\u001b[1m3/3\u001b[0m \u001b[32m━━━━━━━━━━━━━━━━━━━━\u001b[0m\u001b[37m\u001b[0m \u001b[1m0s\u001b[0m 53ms/step - accuracy: 0.9969 - loss: 0.4382 - val_accuracy: 1.0000 - val_loss: 0.3479\n",
      "Epoch 4/5\n",
      "\u001b[1m3/3\u001b[0m \u001b[32m━━━━━━━━━━━━━━━━━━━━\u001b[0m\u001b[37m\u001b[0m \u001b[1m0s\u001b[0m 57ms/step - accuracy: 0.9590 - loss: 0.2741 - val_accuracy: 1.0000 - val_loss: 0.2271\n",
      "Epoch 5/5\n",
      "\u001b[1m3/3\u001b[0m \u001b[32m━━━━━━━━━━━━━━━━━━━━\u001b[0m\u001b[37m\u001b[0m \u001b[1m0s\u001b[0m 54ms/step - accuracy: 1.0000 - loss: 0.1625 - val_accuracy: 1.0000 - val_loss: 0.1077\n"
     ]
    },
    {
     "name": "stderr",
     "output_type": "stream",
     "text": [
      "WARNING:absl:You are saving your model as an HDF5 file via `model.save()` or `keras.saving.save_model(model)`. This file format is considered legacy. We recommend using instead the native Keras format, e.g. `model.save('my_model.keras')` or `keras.saving.save_model(model, 'my_model.keras')`. \n"
     ]
    },
    {
     "name": "stdout",
     "output_type": "stream",
     "text": [
      "\u001b[1m2/2\u001b[0m \u001b[32m━━━━━━━━━━━━━━━━━━━━\u001b[0m\u001b[37m\u001b[0m \u001b[1m0s\u001b[0m 9ms/step - accuracy: 1.0000 - loss: 0.1090 \n",
      "LSTM Model Accuracy: 1.0000\n"
     ]
    }
   ],
   "source": [
    "import pandas as pd\n",
    "import numpy as np\n",
    "from sklearn.model_selection import train_test_split\n",
    "from sklearn.preprocessing import LabelEncoder\n",
    "from tensorflow.keras.models import Sequential\n",
    "from tensorflow.keras.layers import Embedding, LSTM, Dense, Dropout\n",
    "from tensorflow.keras.preprocessing.text import Tokenizer\n",
    "from tensorflow.keras.preprocessing.sequence import pad_sequences\n",
    "import pickle\n",
    "\n",
    "df = pd.read_csv(\"cipher_dataset.csv\")\n",
    "label_encoder = LabelEncoder()\n",
    "df['Algorithm'] = label_encoder.fit_transform(df['Algorithm'])\n",
    "\n",
    "tokenizer = Tokenizer()\n",
    "tokenizer.fit_on_texts(df['Ciphertext'])\n",
    "sequences = tokenizer.texts_to_sequences(df['Ciphertext'])\n",
    "max_length = max([len(sequence) for sequence in sequences])\n",
    "X = pad_sequences(sequences, maxlen=max_length)\n",
    "\n",
    "y = df['Algorithm'].values\n",
    "\n",
    "X_train, X_test, y_train, y_test = train_test_split(X, y, test_size=0.2, random_state=42)\n",
    "\n",
    "model = Sequential()\n",
    "model.add(Embedding(input_dim=len(tokenizer.word_index) + 1, output_dim=100, input_length=max_length))\n",
    "model.add(LSTM(128, dropout=0.2, recurrent_dropout=0.2))\n",
    "model.add(Dense(64, activation='relu'))\n",
    "model.add(Dense(1, activation='sigmoid'))\n",
    "\n",
    "model.compile(loss='binary_crossentropy', optimizer='adam', metrics=['accuracy'])\n",
    "\n",
    "history = model.fit(X_train, y_train, epochs=5, batch_size=64, validation_data=(X_test, y_test))\n",
    "\n",
    "model.save('lstm_model.h5')\n",
    "\n",
    "with open('tokenizer.pkl', 'wb') as tokenizer_file:\n",
    "    pickle.dump(tokenizer, tokenizer_file)\n",
    "\n",
    "\n",
    "accuracy = model.evaluate(X_test, y_test)\n",
    "print(f\"LSTM Model Accuracy: {accuracy[1]:.4f}\")\n"
   ]
  },
  {
   "cell_type": "code",
   "execution_count": 28,
   "id": "130a6505",
   "metadata": {},
   "outputs": [
    {
     "name": "stderr",
     "output_type": "stream",
     "text": [
      "WARNING:absl:Compiled the loaded model, but the compiled metrics have yet to be built. `model.compile_metrics` will be empty until you train or evaluate the model.\n"
     ]
    },
    {
     "data": {
      "application/vnd.jupyter.widget-view+json": {
       "model_id": "6b67b629c8374eab89ec155aa06e3a78",
       "version_major": 2,
       "version_minor": 0
      },
      "text/plain": [
       "VBox(children=(Label(value='Enter Ciphertext:'), Textarea(value='', layout=Layout(height='100px', width='500px…"
      ]
     },
     "metadata": {},
     "output_type": "display_data"
    }
   ],
   "source": [
    "import pickle\n",
    "import numpy as np\n",
    "from tensorflow.keras.models import load_model\n",
    "from tensorflow.keras.preprocessing.sequence import pad_sequences\n",
    "from ipywidgets import Textarea, Button, Output, VBox, Label\n",
    "from IPython.display import display\n",
    "\n",
    "model = load_model('lstm_model.h5')\n",
    "\n",
    "with open('tokenizer.pkl', 'rb') as tokenizer_file:\n",
    "    tokenizer = pickle.load(tokenizer_file)\n",
    "\n",
    "def predict_cipher(ciphertext):\n",
    "    try:\n",
    "        sequence = tokenizer.texts_to_sequences([ciphertext])\n",
    "        padded_sequence = pad_sequences(sequence, maxlen=50) \n",
    "        prediction = model.predict(padded_sequence, verbose=0)[0]  \n",
    "        return 'POLLUX' if prediction < 0.5 else 'PROGRESSIVE_KEY'\n",
    "    except Exception as e:\n",
    "        return f\"Error during prediction: {e}\"\n",
    "\n",
    "\n",
    "input_label = Label(\"Enter Ciphertext:\")\n",
    "input_field = Textarea(\n",
    "    placeholder=\"Enter the ciphertext here...\",\n",
    "    layout={'width': '500px', 'height': '100px'}\n",
    ")\n",
    "predict_button = Button(description=\"Predict Cipher Type\", button_style='info')\n",
    "output = Output()\n",
    "\n",
    "def on_predict_clicked(b):\n",
    "    with output:\n",
    "        output.clear_output()  \n",
    "        ciphertext = input_field.value.strip()\n",
    "        if not ciphertext:\n",
    "            print(\"Error: Please provide a ciphertext.\")\n",
    "        else:\n",
    "            cipher_type = predict_cipher(ciphertext)\n",
    "            print(f\"Predicted Cipher Type: {cipher_type}\")\n",
    "\n",
    "predict_button.on_click(on_predict_clicked)\n",
    "\n",
    "# Display the GUI\n",
    "layout = VBox([input_label, input_field, predict_button, output])\n",
    "display(layout)\n"
   ]
  },
  {
   "cell_type": "code",
   "execution_count": 23,
   "id": "0ae151ac",
   "metadata": {},
   "outputs": [
    {
     "name": "stdout",
     "output_type": "stream",
     "text": [
      "Epoch 1/10\n",
      "\u001b[1m2/2\u001b[0m \u001b[32m━━━━━━━━━━━━━━━━━━━━\u001b[0m\u001b[37m\u001b[0m \u001b[1m3s\u001b[0m 305ms/step - accuracy: 0.3750 - loss: 1.1517 - val_accuracy: 0.4375 - val_loss: 1.0429\n",
      "Epoch 2/10\n",
      "\u001b[1m2/2\u001b[0m \u001b[32m━━━━━━━━━━━━━━━━━━━━\u001b[0m\u001b[37m\u001b[0m \u001b[1m0s\u001b[0m 34ms/step - accuracy: 0.4583 - loss: 1.0556 - val_accuracy: 0.4375 - val_loss: 1.0442\n",
      "Epoch 3/10\n",
      "\u001b[1m2/2\u001b[0m \u001b[32m━━━━━━━━━━━━━━━━━━━━\u001b[0m\u001b[37m\u001b[0m \u001b[1m0s\u001b[0m 33ms/step - accuracy: 0.4896 - loss: 1.0644 - val_accuracy: 0.4375 - val_loss: 1.0463\n",
      "Epoch 4/10\n",
      "\u001b[1m2/2\u001b[0m \u001b[32m━━━━━━━━━━━━━━━━━━━━\u001b[0m\u001b[37m\u001b[0m \u001b[1m0s\u001b[0m 34ms/step - accuracy: 0.3750 - loss: 1.1121 - val_accuracy: 0.4375 - val_loss: 1.0477\n",
      "Epoch 5/10\n",
      "\u001b[1m2/2\u001b[0m \u001b[32m━━━━━━━━━━━━━━━━━━━━\u001b[0m\u001b[37m\u001b[0m \u001b[1m0s\u001b[0m 35ms/step - accuracy: 0.4375 - loss: 1.0321 - val_accuracy: 0.4375 - val_loss: 1.0485\n",
      "Epoch 6/10\n",
      "\u001b[1m2/2\u001b[0m \u001b[32m━━━━━━━━━━━━━━━━━━━━\u001b[0m\u001b[37m\u001b[0m \u001b[1m0s\u001b[0m 48ms/step - accuracy: 0.5104 - loss: 1.0366 - val_accuracy: 0.4375 - val_loss: 1.0494\n",
      "Epoch 7/10\n",
      "\u001b[1m2/2\u001b[0m \u001b[32m━━━━━━━━━━━━━━━━━━━━\u001b[0m\u001b[37m\u001b[0m \u001b[1m0s\u001b[0m 33ms/step - accuracy: 0.4271 - loss: 1.0933 - val_accuracy: 0.4375 - val_loss: 1.0506\n",
      "Epoch 8/10\n",
      "\u001b[1m2/2\u001b[0m \u001b[32m━━━━━━━━━━━━━━━━━━━━\u001b[0m\u001b[37m\u001b[0m \u001b[1m0s\u001b[0m 37ms/step - accuracy: 0.3958 - loss: 1.1200 - val_accuracy: 0.4375 - val_loss: 1.0519\n",
      "Epoch 9/10\n",
      "\u001b[1m2/2\u001b[0m \u001b[32m━━━━━━━━━━━━━━━━━━━━\u001b[0m\u001b[37m\u001b[0m \u001b[1m0s\u001b[0m 40ms/step - accuracy: 0.4062 - loss: 1.0914 - val_accuracy: 0.4375 - val_loss: 1.0531\n",
      "Epoch 10/10\n",
      "\u001b[1m2/2\u001b[0m \u001b[32m━━━━━━━━━━━━━━━━━━━━\u001b[0m\u001b[37m\u001b[0m \u001b[1m0s\u001b[0m 38ms/step - accuracy: 0.4896 - loss: 1.0320 - val_accuracy: 0.4375 - val_loss: 1.0530\n",
      "\u001b[1m1/1\u001b[0m \u001b[32m━━━━━━━━━━━━━━━━━━━━\u001b[0m\u001b[37m\u001b[0m \u001b[1m0s\u001b[0m 23ms/step - accuracy: 0.3000 - loss: 1.1136\n",
      "Test Accuracy: 0.30000001192092896\n",
      "\u001b[1m1/1\u001b[0m \u001b[32m━━━━━━━━━━━━━━━━━━━━\u001b[0m\u001b[37m\u001b[0m \u001b[1m0s\u001b[0m 163ms/step\n",
      "Predictions:\n",
      " [0 0 0 0 0 0 0 0 0 0 0 0 0 2 0 0 0 0 0 0]\n"
     ]
    },
    {
     "data": {
      "image/png": "[encoded data removed]",
      "text/plain": [
       "<Figure size 1200x600 with 2 Axes>"
      ]
     },
     "metadata": {},
     "output_type": "display_data"
    }
   ],
   "source": [
    "import numpy as np\n",
    "import tensorflow as tf\n",
    "from tensorflow.keras.models import Model\n",
    "from tensorflow.keras.layers import Input, Dense, MultiHeadAttention, LayerNormalization, Dropout\n",
    "from sklearn.model_selection import train_test_split\n",
    "import matplotlib.pyplot as plt\n",
    "\n",
    "X = np.random.rand(100, 10, 5) \n",
    "y = np.random.randint(0, 3, (100,))  \n",
    "\n",
    "# Split the data into training and testing sets\n",
    "X_train, X_test, y_train, y_test = train_test_split(X, y, test_size=0.2, random_state=42)\n",
    "\n",
    "input_layer = Input(shape=(10, 5))  \n",
    "attention_output = MultiHeadAttention(num_heads=2, key_dim=5)(input_layer, input_layer)\n",
    "norm1 = LayerNormalization(epsilon=1e-6)(attention_output + input_layer)\n",
    "dense_output = Dense(32, activation='relu')(norm1)\n",
    "dropout_output = Dropout(0.3)(dense_output)\n",
    "final_output = Dense(3, activation='softmax')(dropout_output)  \n",
    "\n",
    "final_output = final_output[:, -1, :]  \n",
    "\n",
    "\n",
    "model = Model(inputs=input_layer, outputs=final_output)\n",
    "model.compile(loss='sparse_categorical_crossentropy', optimizer='adam', metrics=['accuracy'])\n",
    "\n",
    "history = model.fit(X_train, y_train, epochs=10, batch_size=32, validation_split=0.2)\n",
    "loss, accuracy = model.evaluate(X_test, y_test)\n",
    "print(f\"Test Accuracy: {accuracy}\")\n",
    "\n",
    "y_pred = np.argmax(model.predict(X_test), axis=-1)\n",
    "print(\"Predictions:\\n\", y_pred)\n",
    "\n",
    "\n",
    "plt.figure(figsize=(12, 6))\n",
    "\n",
    "\n",
    "plt.subplot(1, 2, 1)\n",
    "plt.plot(history.history['loss'], label='Training Loss')\n",
    "plt.plot(history.history['val_loss'], label='Validation Loss')\n",
    "plt.title('Loss Over Epochs')\n",
    "plt.xlabel('Epochs')\n",
    "plt.ylabel('Loss')\n",
    "plt.legend()\n",
    "\n",
    "\n",
    "plt.subplot(1, 2, 2)\n",
    "plt.plot(history.history['accuracy'], label='Training Accuracy')\n",
    "plt.plot(history.history['val_accuracy'], label='Validation Accuracy')\n",
    "plt.title('Accuracy Over Epochs')\n",
    "plt.xlabel('Epochs')\n",
    "plt.ylabel('Accuracy')\n",
    "plt.legend()\n",
    "\n",
    "plt.tight_layout()\n",
    "plt.show()\n"
   ]
  },
  {
   "cell_type": "code",
   "execution_count": 31,
   "id": "aebc280a",
   "metadata": {},
   "outputs": [
    {
     "data": {
      "application/vnd.jupyter.widget-view+json": {
       "model_id": "c9d75f538f8d413db373a5d8e8657b08",
       "version_major": 2,
       "version_minor": 0
      },
      "text/plain": [
       "VBox(children=(Label(value='Enter sequence of 5 values (comma separated):'), Text(value='', placeholder='Enter…"
      ]
     },
     "metadata": {},
     "output_type": "display_data"
    }
   ],
   "source": [
    "import numpy as np\n",
    "import tensorflow as tf\n",
    "from tensorflow.keras.models import Model\n",
    "from tensorflow.keras.layers import Input, Dense, MultiHeadAttention, LayerNormalization, Dropout\n",
    "from sklearn.model_selection import train_test_split\n",
    "import matplotlib.pyplot as plt\n",
    "from ipywidgets import VBox, HBox, Text, Button, Output, Label\n",
    "\n",
    "# Function to create and compile the model\n",
    "def create_transformer_model(input_shape=(1, 5), num_classes=2):\n",
    "    input_layer = Input(shape=input_shape)\n",
    "    attention_output = MultiHeadAttention(num_heads=2, key_dim=5)(input_layer, input_layer)\n",
    "    norm1 = LayerNormalization(epsilon=1e-6)(attention_output + input_layer)\n",
    "    dense_output = Dense(32, activation='relu')(norm1)\n",
    "    dropout_output = Dropout(0.3)(dense_output)\n",
    "    final_output = Dense(num_classes, activation='softmax')(dropout_output)\n",
    "    model = Model(inputs=input_layer, outputs=final_output)\n",
    "    model.compile(loss='sparse_categorical_crossentropy', optimizer='adam', metrics=['accuracy'])\n",
    "    return model\n",
    "\n",
    "# Function to train and evaluate the model\n",
    "def train_and_evaluate():\n",
    "    output.clear_output()\n",
    "    with output:\n",
    "        try:\n",
    "            # Generate random synthetic data (replace with actual data as needed)\n",
    "            X = np.random.rand(100, 1, 5)  # 100 samples, 1 timestep, 5 features\n",
    "            y = np.random.randint(0, 2, (100, 1))  # 2 classes (Pollux or Progressive)\n",
    "\n",
    "            # Split the data into training and testing sets\n",
    "            X_train, X_test, y_train, y_test = train_test_split(X, y, test_size=0.2, random_state=42)\n",
    "\n",
    "            # Reshape y_train and y_test to match the model's output\n",
    "            y_train_reshaped = np.expand_dims(y_train, axis=-1)\n",
    "            y_test_reshaped = np.expand_dims(y_test, axis=-1)\n",
    "\n",
    "            # Create the Transformer model\n",
    "            model = create_transformer_model(input_shape=(1, 5), num_classes=2)\n",
    "\n",
    "            # Train the model\n",
    "            history = model.fit(X_train, y_train_reshaped, epochs=10, batch_size=16, validation_split=0.2)\n",
    "\n",
    "            # Evaluate the model\n",
    "            loss, accuracy = model.evaluate(X_test, y_test_reshaped)\n",
    "            print(f\"Test Accuracy: {accuracy:.4f}\")\n",
    "\n",
    "            # Visualization of Loss and Accuracy\n",
    "            fig, (ax1, ax2) = plt.subplots(1, 2, figsize=(12, 6))\n",
    "\n",
    "            # Plot training and validation loss\n",
    "            ax1.plot(history.history['loss'], label='Training Loss')\n",
    "            ax1.plot(history.history['val_loss'], label='Validation Loss')\n",
    "            ax1.set_title('Loss Over Epochs')\n",
    "            ax1.set_xlabel('Epochs')\n",
    "            ax1.set_ylabel('Loss')\n",
    "            ax1.legend()\n",
    "\n",
    "            # Plot training and validation accuracy\n",
    "            ax2.plot(history.history['accuracy'], label='Training Accuracy')\n",
    "            ax2.plot(history.history['val_accuracy'], label='Validation Accuracy')\n",
    "            ax2.set_title('Accuracy Over Epochs')\n",
    "            ax2.set_xlabel('Epochs')\n",
    "            ax2.set_ylabel('Accuracy')\n",
    "            ax2.legend()\n",
    "\n",
    "            plt.show()\n",
    "\n",
    "        except Exception as e:\n",
    "            print(f\"An error occurred: {e}\")\n",
    "\n",
    "# Function to make prediction based on user input\n",
    "def make_prediction(_):\n",
    "    output.clear_output()\n",
    "    with output:\n",
    "        try:\n",
    "            # Get the user input sequence\n",
    "            sequence_data = input_field.value.strip().split(',')\n",
    "            sequence_data = list(map(float, sequence_data))  # Convert to float\n",
    "            if len(sequence_data) != 5:  # Ensuring input length matches expected (5 features)\n",
    "                raise ValueError(\"Input sequence must have exactly 5 values.\")\n",
    "\n",
    "            # Reshape data to match model input shape (1, 1, 5)\n",
    "            sequence_data = np.array(sequence_data).reshape(1, 1, 5)\n",
    "\n",
    "            # Create the Transformer model\n",
    "            model = create_transformer_model(input_shape=(1, 5), num_classes=2)\n",
    "\n",
    "            # Predict with the model\n",
    "            prediction = model.predict(sequence_data)\n",
    "\n",
    "            # Convert prediction to class (Pollux or Progressive)\n",
    "            predicted_class = np.argmax(prediction, axis=-1)[0][0]  # Get the predicted class index\n",
    "            class_names = [\"Pollux\", \"Progressive\"]  # Map indices to class names\n",
    "            predicted_label = class_names[predicted_class]\n",
    "\n",
    "            # Display the prediction result\n",
    "            print(f\"Predicted Class: {predicted_label}\")\n",
    "\n",
    "        except Exception as e:\n",
    "            print(f\"An error occurred: {e}\")\n",
    "\n",
    "# GUI Components\n",
    "input_label = Label(\"Enter sequence of 5 values (comma separated):\")\n",
    "input_field = Text(placeholder=\"Enter sequence here...\")\n",
    "train_button = Button(description=\"Train & Evaluate Model\")\n",
    "predict_button = Button(description=\"Make Prediction\")\n",
    "output = Output()\n",
    "\n",
    "# Bind events\n",
    "train_button.on_click(lambda _: train_and_evaluate())\n",
    "predict_button.on_click(make_prediction)\n",
    "\n",
    "# Display GUI\n",
    "VBox([input_label, input_field, HBox([train_button, predict_button]), output])\n"
   ]
  },
  {
   "cell_type": "code",
   "execution_count": null,
   "id": "f11fb9d1",
   "metadata": {},
   "outputs": [],
   "source": []
  }
 ],
 "metadata": {
  "kernelspec": {
   "display_name": "Python 3 (ipykernel)",
   "language": "python",
   "name": "python3"
  },
  "language_info": {
   "codemirror_mode": {
    "name": "ipython",
    "version": 3
   },
   "file_extension": ".py",
   "mimetype": "text/x-python",
   "name": "python",
   "nbconvert_exporter": "python",
   "pygments_lexer": "ipython3",
   "version": "3.11.7"
  }
 },
 "nbformat": 4,
 "nbformat_minor": 5
}
